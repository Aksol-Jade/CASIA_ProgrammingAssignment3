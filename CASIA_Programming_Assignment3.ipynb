{
  "nbformat": 4,
  "nbformat_minor": 0,
  "metadata": {
    "colab": {
      "provenance": []
    },
    "kernelspec": {
      "name": "python3",
      "display_name": "Python 3"
    },
    "language_info": {
      "name": "python"
    }
  },
  "cells": [
    {
      "cell_type": "markdown",
      "source": [
        "\n",
        "\n",
        "```\n",
        "# In this assignment, you will train a model using Logistic Regression. Go to\n",
        "https://archive.ics.uci.edu/ml/datasets/Breast+Cancer+Wisconsin+%28Diagnostic%29 and download\n",
        "the download the Wisconsin Breast Cancer dataset. The dataset contains 699 instances of breast tumors\n",
        "with the following attributes:\n",
        "\n",
        "```\n",
        "\n"
      ],
      "metadata": {
        "id": "VkxDSncSo244"
      }
    },
    {
      "cell_type": "code",
      "source": [
        "import pandas as pd\n",
        "from sklearn.model_selection import train_test_split\n",
        "from sklearn.linear_model import LogisticRegression\n",
        "from sklearn.metrics import accuracy_score, confusion_matrix, classification_report\n",
        "\n",
        "# Load the dataset\n",
        "url = \"https://archive.ics.uci.edu/ml/machine-learning-databases/breast-cancer-wisconsin/breast-cancer-wisconsin.data\"\n",
        "column_names = [\n",
        "    \"Sample code number\", \"Clump Thickness\", \"Uniformity of Cell Size\",\n",
        "    \"Uniformity of Cell Shape\", \"Marginal Adhesion\",\n",
        "    \"Single Epithelial Cell Size\", \"Bare Nuclei\",\n",
        "    \"Bland Chromatin\", \"Normal Nucleoli\", \"Mitoses\", \"Class\"\n",
        "]\n",
        "\n"
      ],
      "metadata": {
        "id": "bgkdm4FMn1be"
      },
      "execution_count": 32,
      "outputs": []
    },
    {
      "cell_type": "markdown",
      "source": [
        "**From the raw data set, remove rows with missing values, remove the column “Sample code number”\n",
        "and replace the “Class” values into 0’s and 1’s (0 for benign, 1 for malignant). You may choose to do\n",
        "this in Python (Pandas) or manually in spreadsheet application. The goal is to make a classifier for the\n",
        "tumor status**"
      ],
      "metadata": {
        "id": "oPrOzh4Wousu"
      }
    },
    {
      "cell_type": "code",
      "source": [
        "data = pd.read_csv(url, header=None, names=column_names)\n",
        "# Data preprocessing\n",
        "data = data.replace('?', pd.NA)  # Replace '?' with NaN\n",
        "data = data.dropna()  # Remove rows with missing values\n",
        "data = data.drop(columns=[\"Sample code number\"])  # Drop the ID column\n",
        "data[\"Class\"] = data[\"Class\"].replace({2: 0, 4: 1})  # Replace Class values"
      ],
      "metadata": {
        "id": "bryx1Fnvn_RY"
      },
      "execution_count": 33,
      "outputs": []
    },
    {
      "cell_type": "markdown",
      "source": [
        "**1. Split the samples into 70% Training and 30% Testing at random.**\n",
        "\n",
        "**2. Use stratify=y in the test_train_split function. Build a pipeline using the Standard scaler and logistic regression.**\n",
        "\n",
        "**3. Use the default penalty settings of Logistic Regression.**"
      ],
      "metadata": {
        "id": "8c8QayEBodnH"
      }
    },
    {
      "cell_type": "code",
      "source": [
        "# Split features and target\n",
        "X = data.drop(columns=[\"Class\"])\n",
        "y = data[\"Class\"]\n",
        "\n",
        "# Train-test split\n",
        "X_train, X_test, y_train, y_test = train_test_split(X, y, test_size=0.3, random_state=42) # Split the samples into 70% Training and 30% Testing at random.\n",
        "#Use stratify=y in the test_train_split function. Build a pipeline using the Standard scaler and logistic regression.\n",
        "\n",
        "# Train logistic regression model\n",
        "model = LogisticRegression()#3. Use the default penalty settings of Logistic Regression.\n",
        "model.fit(X_train, y_train)\n",
        "\n",
        "# Make predictions\n",
        "y_pred = model.predict(X_test)\n",
        "\n",
        "# Evaluate the model\n",
        "accuracy = accuracy_score(y_test, y_pred)\n",
        "conf_matrix = confusion_matrix(y_test, y_pred)\n",
        "class_report = classification_report(y_test, y_pred)\n",
        "\n",
        "print(f\"Accuracy: {accuracy}\")\n",
        "print(\"Confusion Matrix:\")\n",
        "print(conf_matrix)\n",
        "print(\"Classification Report:\")\n",
        "print(class_report)"
      ],
      "metadata": {
        "colab": {
          "base_uri": "https://localhost:8080/"
        },
        "id": "HhLxeLupoGEw",
        "outputId": "5ef82d47-0925-4a0b-bd88-759bb2a7a249"
      },
      "execution_count": 36,
      "outputs": [
        {
          "output_type": "stream",
          "name": "stdout",
          "text": [
            "Accuracy: 0.9560975609756097\n",
            "Confusion Matrix:\n",
            "[[125   2]\n",
            " [  7  71]]\n",
            "Classification Report:\n",
            "              precision    recall  f1-score   support\n",
            "\n",
            "           0       0.95      0.98      0.97       127\n",
            "           1       0.97      0.91      0.94        78\n",
            "\n",
            "    accuracy                           0.96       205\n",
            "   macro avg       0.96      0.95      0.95       205\n",
            "weighted avg       0.96      0.96      0.96       205\n",
            "\n"
          ]
        }
      ]
    },
    {
      "cell_type": "code",
      "source": [
        "pipeline.named_steps"
      ],
      "metadata": {
        "colab": {
          "base_uri": "https://localhost:8080/"
        },
        "id": "CO5NR0cyreZv",
        "outputId": "c59e435e-99e9-49bb-b8b3-18be3550e8e8"
      },
      "execution_count": 38,
      "outputs": [
        {
          "output_type": "execute_result",
          "data": {
            "text/plain": [
              "{'scaler': StandardScaler(), 'logreg': LogisticRegression(random_state=42)}"
            ]
          },
          "metadata": {},
          "execution_count": 38
        }
      ]
    },
    {
      "cell_type": "markdown",
      "source": [
        "**4. After fitting the data, what is the models training and testing accuracy?** 0.9560975609756097\n",
        "**Which features are most important?** Bare Nuclei, Clump Thickness, and Bland Chromatin are the ones that got a coefficient above 1"
      ],
      "metadata": {
        "id": "aPaKWwmcqcbw"
      }
    },
    {
      "cell_type": "code",
      "source": [
        "# Check pipeline structure\n",
        "print(pipeline.named_steps)\n",
        "\n",
        "# Use the correct name for the logistic regression step\n",
        "coefficients = pipeline.named_steps['logreg'].coef_[0]  # Adjust to the correct step name\n",
        "feature_importance = pd.DataFrame({\n",
        "    'Feature': X.columns,\n",
        "    'Coefficient': coefficients\n",
        "}).sort_values(by='Coefficient', key=abs, ascending=False)\n",
        "\n",
        "# Print results\n",
        "print(\"\\nFeature Importance:\")\n",
        "print(feature_importance)\n"
      ],
      "metadata": {
        "colab": {
          "base_uri": "https://localhost:8080/"
        },
        "id": "DMAIt129q_Q_",
        "outputId": "7fa79f3b-8267-4c5a-956e-af6476d26a9d"
      },
      "execution_count": 40,
      "outputs": [
        {
          "output_type": "stream",
          "name": "stdout",
          "text": [
            "{'scaler': StandardScaler(), 'logreg': LogisticRegression(random_state=42)}\n",
            "\n",
            "Feature Importance:\n",
            "                       Feature  Coefficient\n",
            "5                  Bare Nuclei     1.513283\n",
            "0              Clump Thickness     1.185655\n",
            "6              Bland Chromatin     1.033691\n",
            "8                      Mitoses     0.745703\n",
            "2     Uniformity of Cell Shape     0.708695\n",
            "3            Marginal Adhesion     0.601232\n",
            "7              Normal Nucleoli     0.522136\n",
            "1      Uniformity of Cell Size     0.184572\n",
            "4  Single Epithelial Cell Size     0.021981\n"
          ]
        }
      ]
    },
    {
      "cell_type": "markdown",
      "source": [
        "**5 Generate a confusion matrix, then calculate the other metrics: F1-score, Precision, Recall, and False alarm rate**"
      ],
      "metadata": {
        "id": "H3EBTUY8slgA"
      }
    },
    {
      "cell_type": "code",
      "source": [
        "import matplotlib.pyplot as plt\n",
        "import seaborn as sns\n",
        "from sklearn.metrics import confusion_matrix, precision_score, recall_score, f1_score\n",
        "\n",
        "def calculate_metrics(y_true, y_pred):\n",
        "    \"\"\"\n",
        "    Calculate precision, recall, F1-score, and false alarm rate.\n",
        "    \"\"\"\n",
        "    conf_matrix = confusion_matrix(y_true, y_pred)\n",
        "    precision = precision_score(y_true, y_pred)\n",
        "    recall = recall_score(y_true, y_pred)\n",
        "    f1 = f1_score(y_true, y_pred)\n",
        "\n",
        "    # False Alarm Rate (FAR): FP / (FP + TN)\n",
        "    false_alarm_rate = conf_matrix[0, 1] / (conf_matrix[0, 1] + conf_matrix[0, 0])\n",
        "\n",
        "    return conf_matrix, precision, recall, f1, false_alarm_rate\n",
        "\n",
        "def plot_confusion_matrix(conf_matrix):\n",
        "    \"\"\"\n",
        "    Plot a visually appealing confusion matrix.\n",
        "    \"\"\"\n",
        "    plt.figure(figsize=(8, 6))\n",
        "    sns.heatmap(conf_matrix, annot=True, fmt=\"d\", cmap=\"Blues\", cbar=False,\n",
        "                xticklabels=[\"Benign (0)\", \"Malignant (1)\"],\n",
        "                yticklabels=[\"Benign (0)\", \"Malignant (1)\"])\n",
        "    plt.title(\"Confusion Matrix\", fontsize=16)\n",
        "    plt.xlabel(\"Predicted\", fontsize=14)\n",
        "    plt.ylabel(\"Actual\", fontsize=14)\n",
        "    plt.show()\n",
        "\n",
        "def display_metrics(conf_matrix, precision, recall, f1, false_alarm_rate):\n",
        "    \"\"\"\n",
        "    Display the confusion matrix plot and metrics in a structured format.\n",
        "    \"\"\"\n",
        "    plot_confusion_matrix(conf_matrix)\n",
        "    print(\"\\nMetrics:\")\n",
        "    print(f\"Precision: {precision:.2f}\")\n",
        "    print(f\"Recall: {recall:.2f}\")\n",
        "    print(f\"F1-Score: {f1:.2f}\")\n",
        "    print(f\"False Alarm Rate (FAR): {false_alarm_rate:.2f}\")\n",
        "\n",
        "# Generate confusion matrix and metrics\n",
        "conf_matrix, precision, recall, f1, false_alarm_rate = calculate_metrics(y_test, y_pred)\n",
        "\n",
        "# Display results\n",
        "display_metrics(conf_matrix, precision, recall, f1, false_alarm_rate)\n"
      ],
      "metadata": {
        "colab": {
          "base_uri": "https://localhost:8080/",
          "height": 675
        },
        "id": "y6970pFZskzO",
        "outputId": "f82cfc58-98c7-4197-e641-798810641d58"
      },
      "execution_count": 43,
      "outputs": [
        {
          "output_type": "display_data",
          "data": {
            "text/plain": [
              "<Figure size 800x600 with 1 Axes>"
            ],
            "image/png": "[encoded data removed]"
          },
          "metadata": {}
        },
        {
          "output_type": "stream",
          "name": "stdout",
          "text": [
            "\n",
            "Metrics:\n",
            "Precision: 0.97\n",
            "Recall: 0.91\n",
            "F1-Score: 0.94\n",
            "False Alarm Rate (FAR): 0.02\n"
          ]
        }
      ]
    },
    {
      "cell_type": "markdown",
      "source": [
        "**6 Plot the ROC curve and report the AUC. For this item, make a result for both the training and testing data, separately.**"
      ],
      "metadata": {
        "id": "8UyKjIdktb9-"
      }
    },
    {
      "cell_type": "code",
      "source": [
        "from sklearn.metrics import roc_curve, auc\n",
        "import matplotlib.pyplot as plt\n",
        "\n",
        "def plot_roc_curve(y_true_train, y_pred_train_prob, y_true_test, y_pred_test_prob):\n",
        "    \"\"\"\n",
        "    Plot ROC curves for both training and testing data, and calculate AUC.\n",
        "    \"\"\"\n",
        "    # ROC for training data\n",
        "    fpr_train, tpr_train, _ = roc_curve(y_true_train, y_pred_train_prob)\n",
        "    auc_train = auc(fpr_train, tpr_train)\n",
        "\n",
        "    # ROC for testing data\n",
        "    fpr_test, tpr_test, _ = roc_curve(y_true_test, y_pred_test_prob)\n",
        "    auc_test = auc(fpr_test, tpr_test)\n",
        "\n",
        "    # Plot ROC curves\n",
        "    plt.figure(figsize=(10, 6))\n",
        "    plt.plot(fpr_train, tpr_train, label=f\"Training Data (AUC = {auc_train:.2f})\")\n",
        "    plt.plot(fpr_test, tpr_test, label=f\"Testing Data (AUC = {auc_test:.2f})\")\n",
        "    plt.plot([0, 1], [0, 1], 'k--', label=\"Random Guess (AUC = 0.50)\")  # Diagonal line\n",
        "    plt.title(\"ROC Curve\", fontsize=16)\n",
        "    plt.xlabel(\"False Positive Rate (FPR)\", fontsize=14)\n",
        "    plt.ylabel(\"True Positive Rate (TPR)\", fontsize=14)\n",
        "    plt.legend(fontsize=12)\n",
        "    plt.grid()\n",
        "    plt.show()\n",
        "\n",
        "    return auc_train, auc_test\n",
        "\n",
        "# Get predicted probabilities for the positive class (malignant: 1)\n",
        "y_train_pred_prob = pipeline.predict_proba(X_train)[:, 1]\n",
        "y_test_pred_prob = pipeline.predict_proba(X_test)[:, 1]\n",
        "\n",
        "# Plot ROC curve and calculate AUC\n",
        "auc_train, auc_test = plot_roc_curve(y_train, y_train_pred_prob, y_test, y_test_pred_prob)\n",
        "\n",
        "# Display AUC values\n",
        "print(f\"Training Data AUC: {auc_train:.2f}\")\n",
        "print(f\"Testing Data AUC: {auc_test:.2f}\")\n"
      ],
      "metadata": {
        "colab": {
          "base_uri": "https://localhost:8080/",
          "height": 606
        },
        "id": "v_Z6zrUotrhP",
        "outputId": "6fac5904-8cb1-469a-bfaf-53c37ba11587"
      },
      "execution_count": 44,
      "outputs": [
        {
          "output_type": "display_data",
          "data": {
            "text/plain": [
              "<Figure size 1000x600 with 1 Axes>"
            ],
            "image/png": "[encoded data removed]"
          },
          "metadata": {}
        },
        {
          "output_type": "stream",
          "name": "stdout",
          "text": [
            "Training Data AUC: 1.00\n",
            "Testing Data AUC: 1.00\n"
          ]
        }
      ]
    },
    {
      "cell_type": "markdown",
      "source": [
        "1. What steps are required to remove the \"Sample code number\" column?\n",
        "\n",
        "\n",
        "```\n",
        "# # Check initial dataset\n",
        "print(\"Before removing 'Sample code number':\")\n",
        "print(data.head())\n",
        "\n",
        "# Remove the column\n",
        "data = data.drop(columns=[\"Sample code number\"])\n",
        "\n",
        "# Verify removal\n",
        "print(\"\\nAfter removing 'Sample code number':\")\n",
        "print(data.head())\n",
        "\n",
        "```\n",
        "\n",
        "\n",
        "2. How can the \"Class\" values be converted into binary (0 and 1) form in Python?\n",
        "\n",
        "\n",
        "```\n",
        "# Check unique values before conversion\n",
        "print(\"Before conversion:\")\n",
        "print(data[\"Class\"].unique())\n",
        "\n",
        "# Replace values\n",
        "data[\"Class\"] = data[\"Class\"].replace({2: 0, 4: 1})\n",
        "\n",
        "# Check unique values after conversion\n",
        "print(\"\\nAfter conversion:\")\n",
        "print(data[\"Class\"].unique())\n",
        "\n",
        "```\n",
        "\n",
        "\n",
        "3. What is the importance of splitting the dataset into training and testing sets?\n",
        "\n",
        "\n",
        "\n",
        " >Splitting a dataset into training and testing sets is essential for evaluating the performance and reliability of a machine learning model. The primary purpose of this split is to assess how well the model generalizes to unseen data. The training set is used to build the model by learning patterns, relationships, and parameters, while the testing set simulates new, unseen data to validate the model's predictive performance.\n",
        "\n",
        ">Without this split, the model might be evaluated on the same data it was trained on, leading to overly optimistic results. This can result in overfitting, where the model memorizes the training data rather than learning generalizable patterns. By using a separate testing set, we can detect overfitting and understand how the model performs on data it has never encountered.\n",
        "\n",
        ">Furthermore, splitting the dataset ensures that the metrics like accuracy, precision, recall, and F1-score are reliable and reflective of real-world performance. It also helps avoid data leakage, where information from the testing set inadvertently influences the training process, leading to biased evaluations.\n",
        "\n",
        "\n",
        "\n",
        "\n",
        "4. Why is it necessary to use the stratify parameter in the train_test_split function?\n",
        "\n",
        "\n",
        "\n",
        "> The purpose of stratification is to ensure that the proportion of each class is maintained in both the training and testing sets, reflecting the original dataset's distribution.\n",
        "\n",
        ">Without stratification, the random splitting process might inadvertently create training or testing sets that are heavily skewed toward one class. This imbalance can lead to unreliable model evaluation, as the model might perform well on the dominant class while underperforming on the minority class, giving misleading results for metrics like accuracy.\n",
        "\n",
        "\n",
        "\n",
        "5. What is logistic regression, and why is it suitable for this dataset?\n",
        "\n",
        ">Logistic regression is a statistical model used for binary classification problems. It predicts the probability of an outcome belonging to one of two classes by applying a logistic (sigmoid) function to a linear combination of input features.\n",
        "\n",
        ">It is suitable for this dataset because the goal is to classify tumors as benign (0) or malignant (1), which is a binary classification task. Logistic regression handles this efficiently, especially for relatively small and clean datasets like this, providing interpretable results and probabilistic outputs.\n",
        "\n",
        "6. How can the training and testing accuracy of the logistic regression model be calculated?\n",
        "\n",
        "\n",
        "\n",
        "```\n",
        "# Training Accuracy\n",
        "training_accuracy = model.score(X_train, y_train)\n",
        "# Testing Accuracy\n",
        "testing_accuracy = model.score(X_test, y_test)\n",
        "\n",
        "```\n",
        "\n",
        "7. Which features in the dataset are most influential in determining the tumor status, and how can\n",
        "their importance be assessed?\n",
        "\n",
        ">The most influential features in determining tumor status can be identified by examining the coefficients of the logistic regression model. Each coefficient represents the impact of a feature on the likelihood of the tumor being classified as malignant (positive class).\n",
        "\n",
        ">Bare Nuclei, Clump Thickness, and Bland Chromatin are the ones that got a coefficient above 1\n",
        "\n",
        "8. How is a confusion matrix generated, and what does it represent?\n",
        "\n",
        ">A confusion matrix is generated using `confusion_matrix(y_true, y_pred)` in scikit-learn. It represents the counts of True Positives, True Negatives, False Positives, and False Negatives, summarizing the model's classification performance.\n",
        "\n",
        "9. How are precision, recall, F1-score, and false alarm rate calculated from the confusion matrix?\n",
        "\n",
        "- **Precision**: TP / (TP + FP)  \n",
        "  The proportion of correct positive predictions out of all positive predictions.\n",
        "\n",
        "- **Recall**: TP / (TP + FN)  \n",
        "  The proportion of actual positives correctly predicted by the model.\n",
        "\n",
        "- **F1-Score**: 2 * (Precision * Recall) / (Precision + Recall)  \n",
        "  The harmonic mean of precision and recall.\n",
        "\n",
        "- **False Alarm Rate**: FP / (FP + TN)  \n",
        "  The proportion of false positives among all actual negatives.\n",
        "\n",
        "10. Why are these metrics important for evaluating the performance of a classifier?\n",
        "\n",
        "- **Precision**: Important when false positives have a high cost, as it measures how many positive predictions are correct.\n",
        "\n",
        "- **Recall**: Critical when false negatives are costly, as it shows how many actual positives the model identifies.\n",
        "\n",
        "- **F1-Score**: Provides a balance between precision and recall, especially useful when the dataset is imbalanced.\n",
        "\n",
        "- **False Alarm Rate**: Indicates how often the model incorrectly labels negatives as positives, important for assessing reliability in specific contexts.\n",
        "\n",
        "These metrics provide a comprehensive view of the model's strengths and weaknesses beyond accuracy, making them essential for evaluating classifier performance in real-world scenarios.\n",
        "\n",
        "11. What is an ROC curve, and how is it plotted for a logistic regression model?\n",
        "\n",
        "An ROC (Receiver Operating Characteristic) curve shows the trade-off between the true positive rate (TPR) and false positive rate (FPR) at various thresholds. It helps visualize a model's performance across all classification thresholds.\n",
        "\n",
        "**Steps to Plot:**\n",
        "1. Use `predict_proba` to get predicted probabilities for the positive class.\n",
        "2. Compute TPR and FPR using `roc_curve(y_true, y_pred_prob)` from scikit-learn.\n",
        "3. Plot FPR on the x-axis and TPR on the y-axis.\n",
        "\n",
        "**AUC (Area Under Curve)** quantifies the model's overall ability to distinguish between classes; a higher AUC indicates better performance.\n",
        "\n",
        "12. How is the AUC (Area Under the Curve) calculated, and what does it signify about the model's\n",
        "performance?\n",
        "\n",
        "**Calculation:**\n",
        "AUC is computed using the ROC curve by integrating the area under the curve formed by plotting the true positive rate (TPR) against the false positive rate (FPR). In scikit-learn, it is calculated using `auc(fpr, tpr)`.\n",
        "\n",
        "**Significance:**\n",
        "- AUC measures the model's ability to distinguish between positive and negative classes.\n",
        "- **AUC = 1.0**: Perfect classifier.\n",
        "- **AUC = 0.5**: Random guessing.\n",
        "- Higher AUC values indicate better model performance, with the model making more correct predictions across various thresholds.\n",
        "\n",
        "13. How do the training and testing ROC curves compare, and what insights can be derived from this\n",
        "comparison?\n",
        "\n",
        "**Comparison:**\n",
        "- The training ROC curve typically shows better performance because the model is optimized on this data.\n",
        "- The testing ROC curve reflects how well the model generalizes to unseen data.\n",
        "\n",
        "**Insights:**\n",
        "- If the training and testing curves are similar, the model generalizes well, indicating no overfitting.\n",
        "- A significant gap (training curve much better than testing) suggests overfitting, where the model performs well on training data but poorly on new data.\n",
        "- Both curves close to the diagonal line indicate underfitting, where the model struggles to learn patterns from the data.\n",
        "\n",
        "Examining these curves helps evaluate whether the model is balanced in its ability to learn and generalize.\n",
        "\n",
        "14. What challenges did you encounter during the preprocessing or model training phases, and how\n",
        "did you address them?\n",
        "\n",
        ">Had trouble stratifying the model after mapping them into binary. I addressed this by not overcomplicating the pre-processing which was breaking the model.\n",
        "\n",
        "15. If the model's performance is not satisfactory, what adjustments could be made to improve it?\n",
        "\n",
        "\n",
        "**I had to put this here because im having trouble with the numbers. Its breaking the text formatting**\n",
        "```\n",
        "#\n",
        "1. **Feature Engineering**:\n",
        "   - Add or remove features based on domain knowledge.\n",
        "   - Create new features by combining existing ones.\n",
        "\n",
        "2. **Data Preprocessing**:\n",
        "   - Handle missing values or outliers.\n",
        "   - Normalize or standardize features for better convergence.\n",
        "\n",
        "3. **Hyperparameter Tuning**:\n",
        "   - Optimize logistic regression parameters like `C` (regularization strength).\n",
        "\n",
        "4. **Address Class Imbalance**:\n",
        "   - Use techniques like oversampling (e.g., SMOTE) or undersampling to balance the dataset.\n",
        "   - Apply class weights in the model (`class_weight='balanced'`).\n",
        "\n",
        "5. **Change Model Complexity**:\n",
        "   - Use a more complex model (e.g., decision trees, random forests) if logistic regression is too simplistic.\n",
        "\n",
        "6. **Increase Training Data**:\n",
        "   - Collect more data to improve model generalization.\n",
        "\n",
        "7. **Cross-Validation**:\n",
        "   - Use cross-validation to assess and improve model stability across datasets.\n",
        "\n",
        "8. **Try Different Algorithms**:\n",
        "   - Experiment with other classifiers like SVMs or neural networks for better results.\n",
        "\n",
        "Adjustments depend on specific shortcomings identified in the current model's performance.\n",
        "```\n",
        "\n",
        "\n"
      ],
      "metadata": {
        "id": "IT5evAE6sJRG"
      }
    }
  ]
}